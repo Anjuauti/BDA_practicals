{
 "cells": [
  {
   "cell_type": "code",
   "execution_count": 9,
   "id": "6ed701c8",
   "metadata": {},
   "outputs": [
    {
     "name": "stdout",
     "output_type": "stream",
     "text": [
      "[('anjali', 2), ('anushka', 2), ('poonam', 2), ('tejaswini', 1), ('harshal', 1), ('supriya', 1), ('ankush', 1)]\n"
     ]
    }
   ],
   "source": [
    "from pyspark import SparkContext\n",
    "\n",
    "# Initialize SparkContext\n",
    "sc.stop()  # Stop the current SparkContext if it exists\n",
    "sc = SparkContext(\"local\", \"WordCount\")  # Create a new SparkContext\n",
    "\n",
    "\n",
    "\n",
    "# Load text file into RDD\n",
    "text_rdd = sc.textFile(\"input.txt\")\n",
    "\n",
    "# Split the text into words, and map them to (word, 1)\n",
    "words_rdd = text_rdd.flatMap(lambda line: line.split(\" \")) \\\n",
    "                    .map(lambda word: (word, 1))\n",
    "\n",
    "# Reduce by key (word) to count occurrences\n",
    "word_count_rdd = words_rdd.reduceByKey(lambda x, y: x + y)\n",
    "\n",
    "# Collect and print the results\n",
    "print(word_count_rdd.collect())\n",
    "\n",
    "# Stop SparkContext\n",
    "sc.stop()"
   ]
  },
  {
   "cell_type": "code",
   "execution_count": null,
   "id": "ce93367c",
   "metadata": {},
   "outputs": [],
   "source": []
  }
 ],
 "metadata": {
  "kernelspec": {
   "display_name": "Python 3 (ipykernel)",
   "language": "python",
   "name": "python3"
  },
  "language_info": {
   "codemirror_mode": {
    "name": "ipython",
    "version": 3
   },
   "file_extension": ".py",
   "mimetype": "text/x-python",
   "name": "python",
   "nbconvert_exporter": "python",
   "pygments_lexer": "ipython3",
   "version": "3.11.5"
  }
 },
 "nbformat": 4,
 "nbformat_minor": 5
}
